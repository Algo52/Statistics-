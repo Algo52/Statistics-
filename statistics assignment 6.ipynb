{
 "cells": [
  {
   "cell_type": "markdown",
   "id": "0d32ccde",
   "metadata": {},
   "source": [
    "## 1. What is a Cumulative Distribution Function, and how does it work?"
   ]
  },
  {
   "cell_type": "markdown",
   "id": "927a4172",
   "metadata": {},
   "source": [
    "- The cumulative distribution function (CDF) of a random variable is another method to describe the distribution of random variables. The advantage of the CDF is that it can be defined for any kind of random variable (discrete, continuous, and mixed)."
   ]
  },
  {
   "cell_type": "markdown",
   "id": "a077772c",
   "metadata": {},
   "source": [
    "- the cumulative probability for a given x-value. Use the CDF to determine the probability that a random observation that is taken from the population will be less than or equal to a certain value."
   ]
  },
  {
   "cell_type": "markdown",
   "id": "707775dd",
   "metadata": {},
   "source": [
    "## 2. When should we use a t-test vs a z-test?"
   ]
  },
  {
   "cell_type": "markdown",
   "id": "f17240d5",
   "metadata": {},
   "source": [
    "-  z-test is used for it when sample size is large, generally n >30. Whereas t-test is used for hypothesis testing when sample size is small, usually n < 30 where n is used to quantify the sample size"
   ]
  },
  {
   "cell_type": "markdown",
   "id": "da787efe",
   "metadata": {},
   "source": [
    "## 3. How do we examine two category characteristics?"
   ]
  },
  {
   "cell_type": "markdown",
   "id": "01a54ee8",
   "metadata": {},
   "source": [
    "- The Pearson's χ2 test is the most commonly used test for assessing difference in distribution of a categorical variable between two or more independent groups. If the groups are ordered in some manner, the χ2 test for trend should be used"
   ]
  },
  {
   "cell_type": "markdown",
   "id": "f7d107e2",
   "metadata": {},
   "source": [
    "## 4. Explain the concept of Chebyshev's Inequality."
   ]
  },
  {
   "cell_type": "markdown",
   "id": "f62610e0",
   "metadata": {},
   "source": [
    "- Chebyshev's inequality states that within two standard deviations away from the mean contains 75% of the values, and within three standard deviations away from the mean contains 88.9% of the values. It holds for a wide range of probability distributions, not only the normal distribution."
   ]
  },
  {
   "cell_type": "markdown",
   "id": "285da254",
   "metadata": {},
   "source": [
    "## 5. Explain the concept of Pareto Distribution."
   ]
  },
  {
   "cell_type": "markdown",
   "id": "e217760b",
   "metadata": {},
   "source": [
    "- The Pareto principle or \"80-20 rule\" stating that 80% of outcomes are due to 20% of causes was named in honour of Pareto, but the concepts are distinct, and only Pareto distributions with shape value  of log45 = 1.16 precisely reflect it."
   ]
  }
 ],
 "metadata": {
  "kernelspec": {
   "display_name": "Python 3 (ipykernel)",
   "language": "python",
   "name": "python3"
  },
  "language_info": {
   "codemirror_mode": {
    "name": "ipython",
    "version": 3
   },
   "file_extension": ".py",
   "mimetype": "text/x-python",
   "name": "python",
   "nbconvert_exporter": "python",
   "pygments_lexer": "ipython3",
   "version": "3.9.7"
  }
 },
 "nbformat": 4,
 "nbformat_minor": 5
}
