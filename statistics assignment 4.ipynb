{
 "cells": [
  {
   "cell_type": "markdown",
   "id": "b243fd30",
   "metadata": {},
   "source": [
    "## 1. What is the definition of covariance? Create the formula for it."
   ]
  },
  {
   "cell_type": "markdown",
   "id": "6853be86",
   "metadata": {},
   "source": [
    "- Covariance measures the directional relationship between the returns on two assets. A positive covariance means that asset returns move together while a negative covariance means they move inversely.\n",
    "- Cov(X,Y) = Σ E((X – μ) E(Y – ν)) / n-1\n",
    "- where: X is a random variable. E(X) = μ is the expected value (the mean) of the random variable X and. E(Y) = ν is the expected value (the mean) of the random variable Y."
   ]
  },
  {
   "cell_type": "markdown",
   "id": "46b73ccf",
   "metadata": {},
   "source": [
    "## 2. What makes Correlations better than Covariance?"
   ]
  },
  {
   "cell_type": "markdown",
   "id": "0ce973bf",
   "metadata": {},
   "source": [
    "- correlation is preferred over covariance, because it remains unaffected by the change in location and scale, and can also be used to make a comparison between two pairs of variables."
   ]
  },
  {
   "cell_type": "markdown",
   "id": "6ecb0a3b",
   "metadata": {},
   "source": [
    "## 3. Explain the process as well as Pearson and Spearman Correlation."
   ]
  },
  {
   "cell_type": "markdown",
   "id": "74df735a",
   "metadata": {},
   "source": [
    "- Pearson's correlation coefficient or Pearson's r is defined in statistics as the measurement of the strength of the relationship between two variables and their association with each other."
   ]
  },
  {
   "cell_type": "markdown",
   "id": "56ab992f",
   "metadata": {},
   "source": [
    "- Spearman's correlation works by calculating Pearson's correlation on the ranked values of this data. Ranking (from low to high) is obtained by assigning a rank of 1 to the lowest value, 2 to the next lowest and so on. If we look at the plot of the ranked data, then we see that they are perfectly linearly related."
   ]
  },
  {
   "cell_type": "markdown",
   "id": "ce16e624",
   "metadata": {},
   "source": [
    "## 4. What are the advantages of Spearman Correlation over Pearson Correlation?"
   ]
  },
  {
   "cell_type": "markdown",
   "id": "5af5ee52",
   "metadata": {},
   "source": [
    "- Pearson correlation coefficients measure only linear relationships. Spearman correlation coefficients measure only monotonic relationships. So a meaningful relationship can exist even if the correlation coefficients are 0.\n"
   ]
  },
  {
   "cell_type": "markdown",
   "id": "b82eb700",
   "metadata": {},
   "source": [
    "## 5. Describe the Central Limit Theorem."
   ]
  },
  {
   "cell_type": "markdown",
   "id": "b0db4842",
   "metadata": {},
   "source": [
    "- the sampling distribution of the sample means approaches a normal distribution as the sample size gets larger — no matter what the shape of the population distribution. This fact holds especially true for sample sizes over 30."
   ]
  }
 ],
 "metadata": {
  "kernelspec": {
   "display_name": "Python 3 (ipykernel)",
   "language": "python",
   "name": "python3"
  },
  "language_info": {
   "codemirror_mode": {
    "name": "ipython",
    "version": 3
   },
   "file_extension": ".py",
   "mimetype": "text/x-python",
   "name": "python",
   "nbconvert_exporter": "python",
   "pygments_lexer": "ipython3",
   "version": "3.9.7"
  }
 },
 "nbformat": 4,
 "nbformat_minor": 5
}
