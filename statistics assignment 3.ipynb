{
 "cells": [
  {
   "cell_type": "markdown",
   "id": "785e0bee",
   "metadata": {},
   "source": [
    "## 1. Write the Gaussian Distribution empirical formula."
   ]
  },
  {
   "cell_type": "markdown",
   "id": "bc321cd4",
   "metadata": {},
   "source": [
    "- The Empirical Rule states that 99.7% of data observed following a normal distribution lies within 3 standard deviations of the mean. Under this rule, 68% of the data falls within one standard deviation, 95% percent within two standard deviations, and 99.7% within three standard deviations from the mean."
   ]
  },
  {
   "cell_type": "markdown",
   "id": "dc50e70d",
   "metadata": {},
   "source": [
    "## 2. What is the Z-score, and why is it important?"
   ]
  },
  {
   "cell_type": "markdown",
   "id": "dc4b5812",
   "metadata": {},
   "source": [
    "-  A Z-score is a numerical measurement that describes a value's relationship to the mean of a group of values. Z-score is measured in terms of standard deviations from the mean. If a Z-score is 0, it indicates that the data point's score is identical to the mean score.\n",
    "- The z-score is particularly important because it tells you not only something about the value itself, but also where the value lies in the distribution.\n"
   ]
  },
  {
   "cell_type": "markdown",
   "id": "cab132bd",
   "metadata": {},
   "source": [
    "## 3. What is an outlier, exactly?"
   ]
  },
  {
   "cell_type": "markdown",
   "id": "ba358582",
   "metadata": {},
   "source": [
    "- An outlier is an observation that lies an abnormal distance from other values in a random sample from a population. ... Examination of the data for unusual observations that are far removed from the mass of data. These points are often referred to as outliers.\n"
   ]
  },
  {
   "cell_type": "markdown",
   "id": "b6a3a181",
   "metadata": {},
   "source": [
    "## 4. What are our options for dealing with outliers in our dataset?"
   ]
  },
  {
   "cell_type": "markdown",
   "id": "3de368a5",
   "metadata": {},
   "source": [
    "- Sort the dataset in ascending order.\n",
    "- calculate the 1st and 3rd quartiles(Q1, Q3)\n",
    "- compute IQR=Q3-Q1.\n",
    "- compute lower bound = (Q1–1.5*IQR), upper bound = (Q3+1.5*IQR)\n",
    "- loop through the values of the dataset and check for those who fall below the lower bound and above the upper bound and mark them as outliers.\n"
   ]
  },
  {
   "cell_type": "markdown",
   "id": "a657640a",
   "metadata": {},
   "source": [
    "## 5. Write the sample and population variances equations and explain Bessel Correction."
   ]
  },
  {
   "attachments": {},
   "cell_type": "markdown",
   "id": "6b42e8f1",
   "metadata": {},
   "source": [
    "- Population variance refers to the value of variance that is calculated from population data, and sample variance is the variance calculated from sample data."
   ]
  },
  {
   "cell_type": "markdown",
   "id": "13a25431",
   "metadata": {},
   "source": [
    "- Bessel's correction is the use of n − 1 instead of n in the formula for the sample variance and sample standard deviation, where n is the number of observations in a sample. This method corrects the bias in the estimation of the population variance."
   ]
  }
 ],
 "metadata": {
  "kernelspec": {
   "display_name": "Python 3 (ipykernel)",
   "language": "python",
   "name": "python3"
  },
  "language_info": {
   "codemirror_mode": {
    "name": "ipython",
    "version": 3
   },
   "file_extension": ".py",
   "mimetype": "text/x-python",
   "name": "python",
   "nbconvert_exporter": "python",
   "pygments_lexer": "ipython3",
   "version": "3.9.7"
  }
 },
 "nbformat": 4,
 "nbformat_minor": 5
}
