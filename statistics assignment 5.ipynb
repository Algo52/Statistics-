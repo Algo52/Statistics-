{
 "cells": [
  {
   "cell_type": "markdown",
   "id": "437c1245",
   "metadata": {},
   "source": [
    "## 1. How are you going to figure out the average heights of all the trees in Karnataka?\n",
    " "
   ]
  },
  {
   "cell_type": "markdown",
   "id": "5828be39",
   "metadata": {},
   "source": [
    "- Add up all the numbers in that set, first add up all their heights:\n",
    "- Divide this result by the total number of trees in that set. Divide height by trees (that is, by the total number of trees in karnataka):"
   ]
  },
  {
   "cell_type": "markdown",
   "id": "331e4c2a",
   "metadata": {},
   "source": [
    "## 2. What is hypothesis testing and how does it work?"
   ]
  },
  {
   "cell_type": "markdown",
   "id": "0b977b75",
   "metadata": {},
   "source": [
    "- Hypothesis testing allows the researcher to determine whether the data from the sample is statistically significant. Hypothesis testing is one of the most important processes for measuring the validity and reliability of outcomes in any systematic investigation"
   ]
  },
  {
   "cell_type": "markdown",
   "id": "9fca01c4",
   "metadata": {},
   "source": [
    "- An analyst tests a statistical sample, with the goal of providing evidence on the plausibility of the null hypothesis. Statistical analysts test a hypothesis by measuring and examining a random sample of the population being analyzed."
   ]
  },
  {
   "cell_type": "markdown",
   "id": "91f391ee",
   "metadata": {},
   "source": [
    "##  3. Explain the differences between Alpha and Beta errors. Which inaccuracy is the most hazardous? "
   ]
  },
  {
   "cell_type": "markdown",
   "id": "cd85831b",
   "metadata": {},
   "source": [
    "- Alpha error occurs when the null hypothesis is erroneously rejected, and beta error occurs when the null hypothesis is wrongly retained."
   ]
  },
  {
   "cell_type": "markdown",
   "id": "e58499c7",
   "metadata": {},
   "source": [
    "- A conclusion is drawn that the null hypothesis is false when, in fact, it is true. Therefore, Type I errors are generally considered more serious than Type II errors. The probability of a Type I error (α) is called the significance level and is set by the experimenter."
   ]
  },
  {
   "cell_type": "markdown",
   "id": "04373873",
   "metadata": {},
   "source": [
    "## 4. What is the significance of the p-value?"
   ]
  },
  {
   "cell_type": "markdown",
   "id": "7beed488",
   "metadata": {},
   "source": [
    "- A p-value is a measure of the probability that an observed difference could have occurred just by random chance. The lower the p-value, the greater the statistical significance of the observed difference.\n",
    "- A p-value, or probability value, is a number describing how likely it is that your data would have occurred under the null hypothesis of your statistical test."
   ]
  },
  {
   "cell_type": "markdown",
   "id": "0a5ca4ef",
   "metadata": {},
   "source": [
    "## 5. What is the Probability Distribution Function and how does it work?"
   ]
  },
  {
   "cell_type": "markdown",
   "id": "26dda819",
   "metadata": {},
   "source": [
    "- Probability distributions indicate the likelihood of an event or outcome. ... p(x) = the likelihood that random variable takes a specific value of x. The sum of all probabilities for all possible values must equal 1. Furthermore, the probability for a particular value or range of values must be between 0 and 1.\n"
   ]
  }
 ],
 "metadata": {
  "kernelspec": {
   "display_name": "Python 3 (ipykernel)",
   "language": "python",
   "name": "python3"
  },
  "language_info": {
   "codemirror_mode": {
    "name": "ipython",
    "version": 3
   },
   "file_extension": ".py",
   "mimetype": "text/x-python",
   "name": "python",
   "nbconvert_exporter": "python",
   "pygments_lexer": "ipython3",
   "version": "3.9.7"
  }
 },
 "nbformat": 4,
 "nbformat_minor": 5
}
