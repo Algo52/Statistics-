{
 "cells": [
  {
   "cell_type": "markdown",
   "id": "f8ebefa4",
   "metadata": {},
   "source": [
    "## 1. Write a Python Program to Check if a Number is Positive, Negative or Zero?"
   ]
  },
  {
   "cell_type": "code",
   "execution_count": 11,
   "id": "ef95bf6e",
   "metadata": {},
   "outputs": [
    {
     "name": "stdout",
     "output_type": "stream",
     "text": [
      "write a number:-1\n",
      "ENtered number is negative:\n"
     ]
    }
   ],
   "source": [
    "x=int(input(\"write a number:\"))\n",
    "if x >=1:\n",
    "    print(\"entered number is positive:\")\n",
    "elif x<0:\n",
    "     print(\"ENtered number is negative:\")\n",
    "else:\n",
    "     print(\"entered number is zero:\")"
   ]
  },
  {
   "cell_type": "markdown",
   "id": "e270a637",
   "metadata": {},
   "source": [
    "## 2. Write a Python Program to Check if a Number is Odd or Even?"
   ]
  },
  {
   "cell_type": "code",
   "execution_count": 14,
   "id": "14e52dc5",
   "metadata": {},
   "outputs": [
    {
     "name": "stdout",
     "output_type": "stream",
     "text": [
      "enter a number:3\n",
      "Odd number\n"
     ]
    }
   ],
   "source": [
    "x=int(input(\"enter a number:\"))\n",
    "if x % 2 == 0:\n",
    "    print(\"even number\")\n",
    "else:\n",
    "    print(\"Odd number\")"
   ]
  },
  {
   "cell_type": "markdown",
   "id": "653b322f",
   "metadata": {},
   "source": [
    "## 3. Write a Python Program to Check Leap Year?"
   ]
  },
  {
   "cell_type": "code",
   "execution_count": 16,
   "id": "5db48a39",
   "metadata": {},
   "outputs": [
    {
     "name": "stdout",
     "output_type": "stream",
     "text": [
      "enter a number:2020\n",
      "2020 it is a leap year\n"
     ]
    }
   ],
   "source": [
    "x=int(input(\"enter a number:\"))\n",
    "if x%4==0:\n",
    "    print(x,\"it is a leap year\")\n",
    "else:\n",
    "    print(x,\"its not a leap year\")"
   ]
  },
  {
   "cell_type": "markdown",
   "id": "06371113",
   "metadata": {},
   "source": [
    "## 4. Write a Python Program to Check Prime Number?"
   ]
  },
  {
   "cell_type": "code",
   "execution_count": 29,
   "id": "bf33d934",
   "metadata": {},
   "outputs": [
    {
     "name": "stdout",
     "output_type": "stream",
     "text": [
      "enter a number:5\n",
      "5 is a prime number\n"
     ]
    }
   ],
   "source": [
    "x=int(input(\"enter a number:\"))\n",
    "for i in range(i,x):\n",
    "    if x % i == 0:\n",
    "        print(x,'is not a prime')                \n",
    "        break\n",
    "    else:\n",
    "        print(x,'is a prime number')\n",
    "   "
   ]
  },
  {
   "cell_type": "markdown",
   "id": "3900f579",
   "metadata": {},
   "source": [
    "## 5. Write a Python Program to Print all Prime Numbers in an Interval of 1-10000?"
   ]
  },
  {
   "cell_type": "code",
   "execution_count": 32,
   "id": "a9f5c1c2",
   "metadata": {},
   "outputs": [
    {
     "name": "stdout",
     "output_type": "stream",
     "text": [
      "enter a number:1\n",
      "enter a number:20\n",
      "2 is a prime number\n",
      "3 is a prime number\n",
      "4 is not a prime\n",
      "5 is a prime number\n",
      "6 is not a prime\n",
      "7 is a prime number\n",
      "8 is not a prime\n",
      "9 is not a prime\n",
      "10 is not a prime\n",
      "11 is a prime number\n",
      "12 is not a prime\n",
      "13 is a prime number\n",
      "14 is not a prime\n",
      "15 is not a prime\n",
      "16 is not a prime\n",
      "17 is a prime number\n",
      "18 is not a prime\n",
      "19 is a prime number\n"
     ]
    }
   ],
   "source": [
    "interval=[]\n",
    "num1=int(input(\"enter a number:\"))\n",
    "num2=int(input(\"enter a number:\"))\n",
    "for num in range(num1,num2):\n",
    "    if num >1:\n",
    "        for i in range(2,num):\n",
    "            if num % i == 0:\n",
    "                print(num,'is not a prime')                \n",
    "                break\n",
    "        else:\n",
    "            print(num,'is a prime number')\n",
    "            interval.append(num)"
   ]
  }
 ],
 "metadata": {
  "kernelspec": {
   "display_name": "Python 3 (ipykernel)",
   "language": "python",
   "name": "python3"
  },
  "language_info": {
   "codemirror_mode": {
    "name": "ipython",
    "version": 3
   },
   "file_extension": ".py",
   "mimetype": "text/x-python",
   "name": "python",
   "nbconvert_exporter": "python",
   "pygments_lexer": "ipython3",
   "version": "3.9.7"
  }
 },
 "nbformat": 4,
 "nbformat_minor": 5
}
