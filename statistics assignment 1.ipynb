{
 "cells": [
  {
   "cell_type": "markdown",
   "id": "a506f3c6",
   "metadata": {},
   "source": [
    "## 1. What exactly is the difference between descriptive and inferential statistics?"
   ]
  },
  {
   "cell_type": "markdown",
   "id": "008ba3be",
   "metadata": {},
   "source": [
    "### DESCRIPTIVE STATISTICS\n",
    "\n",
    "- It gives information about raw data and describes the data meaningfully. It helps in presenting, organising, analysing and  interpreting the results. It is used to describe the situations related to the economy. It can be achieved by performing charts, graphs, table, etc. It explains already known data."
   ]
  },
  {
   "cell_type": "markdown",
   "id": "57a97066",
   "metadata": {},
   "source": [
    "### INFERENTIAL STATISTICS\n",
    "\n",
    "- It makes inference about population using data from the population. It helps to compare data and helps to analyze the data more relevant. It is used to explain the chance of occurrence of an event. It attempts to reach the conclusion of population and can be achieved by probability."
   ]
  },
  {
   "cell_type": "markdown",
   "id": "2ea42ccf",
   "metadata": {},
   "source": [
    "## 2. I'm not sure what is the difference between a sample and a population?"
   ]
  },
  {
   "cell_type": "markdown",
   "id": "95c4991d",
   "metadata": {},
   "source": [
    "- A population is the entire group that you want to draw conclusions about. A sample is the specific group that you will collect data from."
   ]
  },
  {
   "cell_type": "markdown",
   "id": "28899d06",
   "metadata": {},
   "source": [
    "## 3. What distinguishes descriptive statistics from other types of statistics?"
   ]
  },
  {
   "cell_type": "markdown",
   "id": "840f99e4",
   "metadata": {},
   "source": [
    "- Descriptive Statistics is a discipline which is concerned with describing the population under study. ... On the contrary, Inferential Statistics, compares data, test hypothesis and make predictions of the future outcomes."
   ]
  },
  {
   "cell_type": "markdown",
   "id": "da860fe5",
   "metadata": {},
   "source": [
    "## 4. What is the difference between quantitative and qualitative data?"
   ]
  },
  {
   "cell_type": "markdown",
   "id": "882e63f8",
   "metadata": {},
   "source": [
    "- Quantitative data are measures of values or counts and are expressed as numbers. ... Qualitative data are measures of 'types' and may be represented by a name, symbol, or a number code. Qualitative data are data about categorical variables (e.g. what type)\n",
    "- Data collected about a numeric variable will always be quantitative and data collected about a categorical variable will always be qualitative. Therefore, you can identify the type of data, prior to collection, based on whether the variable is numeric or categorical."
   ]
  },
  {
   "cell_type": "markdown",
   "id": "5cd5d948",
   "metadata": {},
   "source": [
    "## 5. What is the definition of a percentile?"
   ]
  },
  {
   "cell_type": "markdown",
   "id": "68c34ff1",
   "metadata": {},
   "source": [
    "- A percentile is a comparison score between a particular score and the scores of the rest of a group. It shows the percentage of scores that a particular score surpassed. For example, if you score 75 points on a test, and are ranked in the 85 th percentile, it means that the score 75 is higher than 85% of the scores."
   ]
  }
 ],
 "metadata": {
  "kernelspec": {
   "display_name": "Python 3 (ipykernel)",
   "language": "python",
   "name": "python3"
  },
  "language_info": {
   "codemirror_mode": {
    "name": "ipython",
    "version": 3
   },
   "file_extension": ".py",
   "mimetype": "text/x-python",
   "name": "python",
   "nbconvert_exporter": "python",
   "pygments_lexer": "ipython3",
   "version": "3.9.7"
  }
 },
 "nbformat": 4,
 "nbformat_minor": 5
}
