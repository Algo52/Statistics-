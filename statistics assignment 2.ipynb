{
 "cells": [
  {
   "cell_type": "markdown",
   "id": "3e3acc1f",
   "metadata": {},
   "source": [
    "## 1. How can we figure out what the interquartile range is?"
   ]
  },
  {
   "cell_type": "markdown",
   "id": "9e98f641",
   "metadata": {},
   "source": [
    "- The interquartile range is a measure of where the “middle fifty” is in a data set.\n",
    "-- IQR = Q3 – Q1."
   ]
  },
  {
   "cell_type": "markdown",
   "id": "df108223",
   "metadata": {},
   "source": [
    "## 2. What exactly is the value of the 5-number theory?"
   ]
  },
  {
   "cell_type": "markdown",
   "id": "c9553dc7",
   "metadata": {},
   "source": [
    "- The most extreme values in the data set (the maximum and minimum values), the lower and upper quartiles, and the median\n",
    "- Minimum value\n",
    "- lower quartile (Q1),\n",
    "- median value (Q2),\n",
    "- upper quartile (Q3), \n",
    "- maximum value"
   ]
  },
  {
   "cell_type": "markdown",
   "id": "2297badb",
   "metadata": {},
   "source": [
    "## 3. What is the relationship between standard deviation and variance?"
   ]
  },
  {
   "cell_type": "markdown",
   "id": "192256db",
   "metadata": {},
   "source": [
    "- Standard deviation is the spread of a group of numbers from the mean\n",
    "- While standard deviation is the square root of the variance\n",
    "- The variance measures the average degree to which each point differs from the mean\n",
    "- variance is the average of all data points within a group."
   ]
  },
  {
   "cell_type": "markdown",
   "id": "b6833e2a",
   "metadata": {},
   "source": [
    "## 4. What does the difference between variance and standard deviation mean?"
   ]
  },
  {
   "cell_type": "markdown",
   "id": "2f1f0b44",
   "metadata": {},
   "source": [
    "- A standard deviation (or σ) is a measure of how dispersed the data is in relation to the mean. Low standard deviation means data are clustered around the mean, and high standard deviation indicates data are more spread out.\n",
    "- The variance measures the average degree to which each point differs from the mean,variance is the average of all data points within a group."
   ]
  },
  {
   "cell_type": "markdown",
   "id": "f4506d80",
   "metadata": {},
   "source": [
    "## 5. When is it appropriate to refer to a skewed data distribution?"
   ]
  },
  {
   "cell_type": "markdown",
   "id": "362bd0d6",
   "metadata": {},
   "source": [
    "- A distribution is said to be skewed when the data points cluster more toward one side of the scale than the other, creating a curve that is not symmetrical\n",
    "- The median is usually preferred to other measures of central tendency when your data set is skewed (i.e., forms a skewed distribution) or you are dealing with ordinal data. However, the mode can also be appropriate in these situations, but is not as commonly used as the median."
   ]
  }
 ],
 "metadata": {
  "kernelspec": {
   "display_name": "Python 3 (ipykernel)",
   "language": "python",
   "name": "python3"
  },
  "language_info": {
   "codemirror_mode": {
    "name": "ipython",
    "version": 3
   },
   "file_extension": ".py",
   "mimetype": "text/x-python",
   "name": "python",
   "nbconvert_exporter": "python",
   "pygments_lexer": "ipython3",
   "version": "3.9.7"
  }
 },
 "nbformat": 4,
 "nbformat_minor": 5
}
